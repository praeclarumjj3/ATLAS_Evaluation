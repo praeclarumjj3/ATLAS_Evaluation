{
 "cells": [
  {
   "cell_type": "code",
   "execution_count": 1,
   "metadata": {},
   "outputs": [],
   "source": [
    "import csv\n",
    "import pandas as pd\n",
    "import numpy as np"
   ]
  },
  {
   "cell_type": "code",
   "execution_count": 2,
   "metadata": {},
   "outputs": [
    {
     "data": {
      "text/plain": [
       "'3.7.6 (default, Jan  8 2020, 19:59:22) \\n[GCC 7.3.0]'"
      ]
     },
     "execution_count": 2,
     "metadata": {},
     "output_type": "execute_result"
    }
   ],
   "source": [
    "import sys\n",
    "sys.version"
   ]
  },
  {
   "cell_type": "markdown",
   "metadata": {},
   "source": [
    "## Dataset Preparation"
   ]
  },
  {
   "cell_type": "markdown",
   "metadata": {},
   "source": [
    "1. Take a pickle dataset, and open into Pandas. Note that the given data is un-normalized.\n",
    "2. Partition the global dataset into training (**80**%) and testing (**20**%) sets."
   ]
  },
  {
   "cell_type": "code",
   "execution_count": 3,
   "metadata": {},
   "outputs": [],
   "source": [
    "import pandas as pd\n",
    "\n",
    "# Load the .pkl file containing the data points\n",
    "path = 'data/jet_particles.pkl'\n",
    "\n",
    "# Read the .pkl file with Pandas\n",
    "dataset = pd.read_pickle(path)\n",
    "\n",
    "total_len = len(dataset)\n",
    "\n",
    "# Slice training and testing sets from the total data given\n",
    "train_set = dataset[0:int(0.8*total_len)]\n",
    "test_set = dataset[int(0.8*total_len):]"
   ]
  },
  {
   "cell_type": "markdown",
   "metadata": {},
   "source": [
    "See the format of the un-normalized dataframe heads."
   ]
  },
  {
   "cell_type": "code",
   "execution_count": 4,
   "metadata": {},
   "outputs": [
    {
     "name": "stdout",
     "output_type": "stream",
     "text": [
      "Training sample:\n",
      "          E        pt       eta      phi\n",
      "0  258722.0  243675.0  0.328962  2.25014\n",
      "1  520092.0  108590.0 -2.247300 -1.85679\n",
      "2  383024.0   88405.6  2.145160 -1.95635\n",
      "3   39507.6   35365.1  0.470460 -1.16445\n",
      "4  225430.0   26878.2 -2.816080 -2.25938\n",
      "Testing sample:\n",
      "               E        pt       eta       phi\n",
      "18128    31667.3   31188.0 -0.034852 -1.064850\n",
      "18129  1220580.0  563494.0  1.407610  1.774810\n",
      "18130   183789.0  144274.0 -0.714607 -1.638620\n",
      "18131   105035.0   30664.6 -1.900490  0.944864\n",
      "18132   458817.0  330407.0 -0.840037  0.899706\n",
      "The number of entries in the training data: 18128\n",
      "The number of entries in the testing data: 4533\n",
      "----------------------------------------------------------\n"
     ]
    }
   ],
   "source": [
    "print('Training sample:')\n",
    "print(train_set.head())\n",
    "\n",
    "print('Testing sample:')\n",
    "print(test_set.head())\n",
    "\n",
    "print('The number of entries in the training data:', len(train_set))\n",
    "print('The number of entries in the testing data:', len(test_set))\n",
    "print('----------------------------------------------------------')"
   ]
  },
  {
   "cell_type": "markdown",
   "metadata": {},
   "source": [
    "### Normalize the Dataset"
   ]
  },
  {
   "cell_type": "code",
   "execution_count": 5,
   "metadata": {},
   "outputs": [],
   "source": [
    "# Function to normalize the data\n",
    "def custom_normalize(df):\n",
    "    df['eta'] = df['eta'] / 5\n",
    "    df['phi'] = df['phi'] / 3\n",
    "    df['E'] = np.log(df['E']+1e-8) / 20\n",
    "    df['pt'] = np.log((df['pt']+ 1e-8)) / 20\n",
    "    return df"
   ]
  },
  {
   "cell_type": "code",
   "execution_count": 6,
   "metadata": {},
   "outputs": [],
   "source": [
    "import warnings\n",
    "warnings.filterwarnings(\"ignore\")\n",
    "\n",
    "train_set = custom_normalize(train_set)\n",
    "test_set = custom_normalize(test_set)"
   ]
  },
  {
   "cell_type": "markdown",
   "metadata": {},
   "source": [
    "See the format of the un-normalized dataframe heads."
   ]
  },
  {
   "cell_type": "code",
   "execution_count": 7,
   "metadata": {},
   "outputs": [
    {
     "name": "stdout",
     "output_type": "stream",
     "text": [
      "Training sample:\n",
      "          E        pt       eta       phi\n",
      "0  0.623175  0.620180  0.065792  0.750047\n",
      "1  0.658088  0.579767 -0.449460 -0.618930\n",
      "2  0.642793  0.569485  0.429032 -0.652117\n",
      "3  0.529212  0.523674  0.094092 -0.388150\n",
      "4  0.616288  0.509954 -0.563216 -0.753127\n",
      "Testing sample:\n",
      "              E        pt       eta       phi\n",
      "18128  0.518152  0.517389 -0.006970 -0.354950\n",
      "18129  0.700742  0.662096  0.281522  0.591603\n",
      "18130  0.606077  0.593973 -0.142921 -0.546207\n",
      "18131  0.578102  0.516543 -0.380098  0.314955\n",
      "18132  0.651820  0.635404 -0.168007  0.299902\n",
      "The number of entries in the training data: 18128\n",
      "The number of entries in the testing data: 4533\n",
      "----------------------------------------------------------\n"
     ]
    }
   ],
   "source": [
    "print('Training sample:')\n",
    "print(train_set.head())\n",
    "\n",
    "print('Testing sample:')\n",
    "print(test_set.head())\n",
    "\n",
    "print('The number of entries in the training data:', len(train_set))\n",
    "print('The number of entries in the testing data:', len(test_set))\n",
    "print('----------------------------------------------------------')"
   ]
  },
  {
   "cell_type": "markdown",
   "metadata": {},
   "source": [
    "Now we plot the data using the matplotlib library. The units reflect the normalization, but it's the shape that we care about. "
   ]
  },
  {
   "cell_type": "code",
   "execution_count": 8,
   "metadata": {},
   "outputs": [],
   "source": [
    "import os\n",
    "in_save_dir = \"plotInput\"\n",
    "if not os.path.exists(in_save_dir):\n",
    "    os.makedirs(in_save_dir)"
   ]
  },
  {
   "cell_type": "code",
   "execution_count": 9,
   "metadata": {},
   "outputs": [
    {
     "data": {
      "image/png": "[encoded data removed]",
      "text/plain": [
       "<Figure size 432x288 with 1 Axes>"
      ]
     },
     "metadata": {
      "needs_background": "light"
     },
     "output_type": "display_data"
    },
    {
     "data": {
      "image/png": "[encoded data removed]",
      "text/plain": [
       "<Figure size 432x288 with 1 Axes>"
      ]
     },
     "metadata": {
      "needs_background": "light"
     },
     "output_type": "display_data"
    },
    {
     "data": {
      "image/png": "[encoded data removed]",
      "text/plain": [
       "<Figure size 432x288 with 1 Axes>"
      ]
     },
     "metadata": {
      "needs_background": "light"
     },
     "output_type": "display_data"
    },
    {
     "data": {
      "image/png": "[encoded data removed]",
      "text/plain": [
       "<Figure size 432x288 with 1 Axes>"
      ]
     },
     "metadata": {
      "needs_background": "light"
     },
     "output_type": "display_data"
    }
   ],
   "source": [
    "import matplotlib.pyplot as plt\n",
    "\n",
    "unit_list = ['[log(GeV)]', '[log(GeV)]', '[rad/3]', '[rad/3]']\n",
    "variable_list = [r'$E$', r'$p_t$', r'$\\eta$', r'$\\phi$']\n",
    "\n",
    "branches=[\"E\",\"pt\",\"eta\",\"phi\"]\n",
    "\n",
    "n_bins = 100\n",
    "\n",
    "\n",
    "for kk in range(0,4):\n",
    "    n_hist_data, bin_edges, _ = plt.hist(train_set[branches[kk]], color='cyan', label='Input', alpha=1, bins=n_bins)\n",
    "    plt.xlabel(xlabel=variable_list[kk] + ' ' + unit_list[kk])\n",
    "    plt.ylabel('# of Particles')\n",
    "    plt.savefig(os.path.join(in_save_dir,\"fourmomentum_\"+branches[kk]),dpi=300)\n",
    "    plt.show()"
   ]
  },
  {
   "cell_type": "markdown",
   "metadata": {},
   "source": [
    "## Setting up the AutoEncoder"
   ]
  },
  {
   "cell_type": "markdown",
   "metadata": {},
   "source": [
    "### Preparing the data"
   ]
  },
  {
   "cell_type": "markdown",
   "metadata": {},
   "source": [
    "1. Adding the two datasets as TensorDatasets to PyTorch.\n",
    "2. Import statements."
   ]
  },
  {
   "cell_type": "code",
   "execution_count": 10,
   "metadata": {},
   "outputs": [],
   "source": [
    "import torch\n",
    "import torch.nn as nn\n",
    "import torch.optim as optim\n",
    "import torch.utils.data\n",
    "from torch.autograd import Variable\n",
    "\n",
    "from torch.utils.data import TensorDataset\n",
    "from torch.utils.data import DataLoader\n",
    "\n",
    "from fastai import learner\n",
    "from fastai.data import core\n",
    "\n",
    "train_x = train_set\n",
    "test_x = test_set\n",
    "train_y = train_set  # y = x since we are building an autoencoder\n",
    "test_y = test_set\n",
    "\n",
    "# Constructs a tensor object of the data and wraps them in a TensorDataset object.\n",
    "train_ds = TensorDataset(torch.tensor(train_x.values, dtype=torch.float), torch.tensor(train_y.values, dtype=torch.float))\n",
    "valid_ds = TensorDataset(torch.tensor(test_x.values, dtype=torch.float), torch.tensor(test_y.values, dtype=torch.float))"
   ]
  },
  {
   "cell_type": "markdown",
   "metadata": {},
   "source": [
    "We now set things up to load the data, and we use a batch size that was optimized by previous students...note also that this is fastai v2, migration thanks to Jessica Lastow."
   ]
  },
  {
   "cell_type": "code",
   "execution_count": 11,
   "metadata": {},
   "outputs": [],
   "source": [
    "bs = 64\n",
    "\n",
    "# Converts the TensorDataset into a DataLoader object and combines into one DataLoaders object (a basic wrapper\n",
    "# around several DataLoader objects). \n",
    "train_dl = DataLoader(train_ds, batch_size=bs, shuffle=True)\n",
    "valid_dl = DataLoader(valid_ds, batch_size=bs * 2)\n",
    "dls = core.DataLoaders(train_dl, valid_dl)"
   ]
  },
  {
   "cell_type": "markdown",
   "metadata": {},
   "source": [
    "### Preparing the network"
   ]
  },
  {
   "cell_type": "markdown",
   "metadata": {},
   "source": [
    "Details aren't too important, as long as they match what was already trained for us. In this case we have a LeakyReLU, tanh activation function, and a number of layers that goes from 4 to 200 to 20 to 3 (number of features in the hidden layer that we pick for testing compression) and then back all the way to 4."
   ]
  },
  {
   "cell_type": "code",
   "execution_count": 12,
   "metadata": {},
   "outputs": [
    {
     "data": {
      "text/plain": [
       "AE_3D_200_LeakyReLU(\n",
       "  (en1): Linear(in_features=4, out_features=200, bias=True)\n",
       "  (en2): Linear(in_features=200, out_features=200, bias=True)\n",
       "  (en3): Linear(in_features=200, out_features=20, bias=True)\n",
       "  (en4): Linear(in_features=20, out_features=3, bias=True)\n",
       "  (de1): Linear(in_features=3, out_features=20, bias=True)\n",
       "  (de2): Linear(in_features=20, out_features=200, bias=True)\n",
       "  (de3): Linear(in_features=200, out_features=200, bias=True)\n",
       "  (de4): Linear(in_features=200, out_features=4, bias=True)\n",
       "  (tanh): Tanh()\n",
       ")"
      ]
     },
     "execution_count": 12,
     "metadata": {},
     "output_type": "execute_result"
    }
   ],
   "source": [
    "class AE_3D_200_LeakyReLU(nn.Module):\n",
    "    def __init__(self, n_features=4, enc_features=3):\n",
    "        super(AE_3D_200_LeakyReLU, self).__init__()\n",
    "        self.en1 = nn.Linear(n_features, 200)\n",
    "        self.en2 = nn.Linear(200, 200)\n",
    "        self.en3 = nn.Linear(200, 20)\n",
    "        self.en4 = nn.Linear(20, enc_features)\n",
    "        self.de1 = nn.Linear(3, 20)\n",
    "        self.de2 = nn.Linear(20, 200)\n",
    "        self.de3 = nn.Linear(200, 200)\n",
    "        self.de4 = nn.Linear(200, n_features)\n",
    "        self.tanh = nn.Tanh()\n",
    "\n",
    "    def encode(self, x):\n",
    "        return self.en4(self.tanh(self.en3(self.tanh(self.en2(self.tanh(self.en1(x)))))))\n",
    "\n",
    "    def decode(self, x):\n",
    "        return self.de4(self.tanh(self.de3(self.tanh(self.de2(self.tanh(self.de1(self.tanh(x))))))))\n",
    "\n",
    "    def forward(self, x):\n",
    "        z = self.encode(x)\n",
    "        return self.decode(z)\n",
    "\n",
    "    def describe(self):\n",
    "        return 'in-200-200-20-3-20-200-200-out'\n",
    "\n",
    "#model = AE_3D_200_LeakyReLU().double()\n",
    "model = AE_3D_200_LeakyReLU()\n",
    "model.to('cpu')"
   ]
  },
  {
   "cell_type": "markdown",
   "metadata": {},
   "source": [
    "We now have to pick a loss function - MSE loss is appropriate for a compression autoencoder since it reflects the [(input-output)/input] physical quantity that we want to minimize. "
   ]
  },
  {
   "cell_type": "code",
   "execution_count": 13,
   "metadata": {},
   "outputs": [],
   "source": [
    "from fastai.metrics import mse\n",
    "\n",
    "loss_func = nn.MSELoss()\n",
    "\n",
    "#bn_wd = False  # Don't use weight decay for batchnorm layers\n",
    "#true_wd = True  # weight decay will be used for all optimizers\n",
    "wd = 1e-6\n",
    "\n",
    "recorder = learner.Recorder()\n",
    "learn = learner.Learner(dls, model=model, wd=wd, loss_func=loss_func, cbs=recorder)"
   ]
  },
  {
   "cell_type": "markdown",
   "metadata": {},
   "source": [
    "## Alternative 1: Running a pre-trained network"
   ]
  },
  {
   "cell_type": "markdown",
   "metadata": {},
   "source": [
    "Now we load the pre-trained network (Uncomment the code below)"
   ]
  },
  {
   "cell_type": "code",
   "execution_count": 14,
   "metadata": {},
   "outputs": [],
   "source": [
    "# learn.load(\"AE_3D\")"
   ]
  },
  {
   "cell_type": "markdown",
   "metadata": {},
   "source": [
    "Then we evaluate the MSE on this network: it should be of the order of 0.001 or less if all has gone well. If it has not trained well, then it's going to be a bit higher."
   ]
  },
  {
   "cell_type": "code",
   "execution_count": 15,
   "metadata": {},
   "outputs": [],
   "source": [
    "# learn.validate()"
   ]
  },
  {
   "cell_type": "markdown",
   "metadata": {},
   "source": [
    "## Alternative 2: Training a new network"
   ]
  },
  {
   "cell_type": "markdown",
   "metadata": {},
   "source": [
    "Instead of using a pre-trained network, an alternative is to train a new network and use that instead. "
   ]
  },
  {
   "cell_type": "markdown",
   "metadata": {},
   "source": [
    "First, we want to find the best learning rate. The learning rate is a hyper-paramater that sets how much the weights of the network will change each step with respect to the loss gradient.\n",
    "\n",
    "Then we plot the loss versus the learning rates. We're interested in finding a good order of magnitude of learning rate, so we plot with a log scale.\n",
    "\n",
    "A good value for the learning rates is then either:\n",
    "- one tenth of the minimum before the divergence\n",
    "- when the slope is the steepest"
   ]
  },
  {
   "cell_type": "code",
   "execution_count": 16,
   "metadata": {},
   "outputs": [
    {
     "name": "stdout",
     "output_type": "stream",
     "text": [
      "Learning rate with the minimum loss: 0.005754399299621582\n",
      "Learning rate with the steepest gradient: 0.0004786300996784121\n"
     ]
    },
    {
     "data": {
      "image/png": "[encoded data removed]",
      "text/plain": [
       "<Figure size 432x288 with 1 Axes>"
      ]
     },
     "metadata": {
      "needs_background": "light"
     },
     "output_type": "display_data"
    }
   ],
   "source": [
    "from fastai.callback import schedule\n",
    "\n",
    "lr_min, lr_steep = learn.lr_find()\n",
    "\n",
    "print('Learning rate with the minimum loss:', lr_min)\n",
    "print('Learning rate with the steepest gradient:', lr_steep)"
   ]
  },
  {
   "cell_type": "markdown",
   "metadata": {},
   "source": [
    "Now we want to run the training!\n",
    "\n",
    "User-chosen variables:\n",
    "- n_epoch: The number of epochs, i.e how many times the to run through all of the training data once (i.e the 1266046 entries, see cell 2)\n",
    "- lr: The learning rate. Either choose lr_min, lr_steep from above or set your own.\n"
   ]
  },
  {
   "cell_type": "code",
   "execution_count": 17,
   "metadata": {},
   "outputs": [
    {
     "name": "stdout",
     "output_type": "stream",
     "text": [
      "[0, 0.04330918565392494, 0.02839025855064392, '00:06']\n",
      "[0, 0.04330918565392494, 0.02839025855064392, '00:06']\n",
      "[1, 0.016060184687376022, 0.0090187331661582, '00:04']\n",
      "[1, 0.016060184687376022, 0.0090187331661582, '00:04']\n",
      "[2, 0.0025066365487873554, 0.002294184872880578, '00:04']\n",
      "[2, 0.0025066365487873554, 0.002294184872880578, '00:04']\n",
      "[3, 0.0018867886392399669, 0.0017544759903103113, '00:04']\n",
      "[3, 0.0018867886392399669, 0.0017544759903103113, '00:04']\n",
      "[4, 0.001451630494557321, 0.0013176926877349615, '00:04']\n",
      "[4, 0.001451630494557321, 0.0013176926877349615, '00:04']\n",
      "[5, 0.0005288398824632168, 0.00036140685551799834, '00:04']\n",
      "[5, 0.0005288398824632168, 0.00036140685551799834, '00:04']\n",
      "[6, 0.0002575836842879653, 0.00023557254462502897, '00:06']\n",
      "[6, 0.0002575836842879653, 0.00023557254462502897, '00:06']\n",
      "[7, 0.00020012377353850752, 0.00020071280596312135, '00:05']\n",
      "[7, 0.00020012377353850752, 0.00020071280596312135, '00:05']\n",
      "[8, 0.00015213893493637443, 0.00014508696040138602, '00:05']\n",
      "[8, 0.00015213893493637443, 0.00014508696040138602, '00:05']\n",
      "[9, 0.00011673042172333226, 0.00010155505151487887, '00:04']\n",
      "[9, 0.00011673042172333226, 0.00010155505151487887, '00:04']\n",
      "[10, 9.357066301163286e-05, 9.02908286661841e-05, '00:04']\n",
      "[10, 9.357066301163286e-05, 9.02908286661841e-05, '00:04']\n",
      "[11, 8.311869896715507e-05, 7.199992251116782e-05, '00:04']\n",
      "[11, 8.311869896715507e-05, 7.199992251116782e-05, '00:04']\n",
      "[12, 7.534167525591329e-05, 5.3741849114885554e-05, '00:04']\n",
      "[12, 7.534167525591329e-05, 5.3741849114885554e-05, '00:04']\n",
      "[13, 0.00011511213233461604, 0.0001245879102498293, '00:04']\n",
      "[13, 0.00011511213233461604, 0.0001245879102498293, '00:04']\n",
      "[14, 7.577752694487572e-05, 3.5432323784334585e-05, '00:05']\n",
      "[14, 7.577752694487572e-05, 3.5432323784334585e-05, '00:05']\n",
      "[15, 9.460853470955044e-05, 5.697822052752599e-05, '00:06']\n",
      "[15, 9.460853470955044e-05, 5.697822052752599e-05, '00:06']\n",
      "[16, 9.090978710446507e-05, 0.00013847598165739328, '00:04']\n",
      "[16, 9.090978710446507e-05, 0.00013847598165739328, '00:04']\n",
      "[17, 9.489857620792463e-05, 6.996915908530354e-05, '00:04']\n",
      "[17, 9.489857620792463e-05, 6.996915908530354e-05, '00:04']\n",
      "[18, 0.00010847345401998609, 0.00015270899166353047, '00:04']\n",
      "[18, 0.00010847345401998609, 0.00015270899166353047, '00:04']\n",
      "[19, 0.00010063623631140217, 0.00010181652032770216, '00:04']\n",
      "[19, 0.00010063623631140217, 0.00010181652032770216, '00:04']\n",
      "[20, 9.259016951546073e-05, 8.70982839842327e-05, '00:04']\n",
      "[20, 9.259016951546073e-05, 8.70982839842327e-05, '00:04']\n",
      "[21, 0.00010747860505944118, 5.220442108111456e-05, '00:04']\n",
      "[21, 0.00010747860505944118, 5.220442108111456e-05, '00:04']\n",
      "[22, 8.8595857960172e-05, 0.00011165173054905608, '00:04']\n",
      "[22, 8.8595857960172e-05, 0.00011165173054905608, '00:04']\n",
      "[23, 8.582927694078535e-05, 0.00012946002243552357, '00:04']\n",
      "[23, 8.582927694078535e-05, 0.00012946002243552357, '00:04']\n",
      "[24, 9.252448217011988e-05, 3.819958874373697e-05, '00:04']\n",
      "[24, 9.252448217011988e-05, 3.819958874373697e-05, '00:04']\n",
      "[25, 7.040827767923474e-05, 0.00012494862312451005, '00:04']\n",
      "[25, 7.040827767923474e-05, 0.00012494862312451005, '00:04']\n",
      "[26, 7.035218004602939e-05, 0.0001298008137382567, '00:04']\n",
      "[26, 7.035218004602939e-05, 0.0001298008137382567, '00:04']\n",
      "[27, 6.486876372946426e-05, 5.998751294100657e-05, '00:04']\n",
      "[27, 6.486876372946426e-05, 5.998751294100657e-05, '00:04']\n",
      "[28, 7.744877802906558e-05, 0.00016277875693049282, '00:04']\n",
      "[28, 7.744877802906558e-05, 0.00016277875693049282, '00:04']\n",
      "[29, 5.304095247993246e-05, 0.00013096703332848847, '00:04']\n",
      "[29, 5.304095247993246e-05, 0.00013096703332848847, '00:04']\n",
      "[30, 6.6295666329097e-05, 5.102072827867232e-05, '00:04']\n",
      "[30, 6.6295666329097e-05, 5.102072827867232e-05, '00:04']\n",
      "[31, 7.204810390248895e-05, 7.214500510599464e-05, '00:04']\n",
      "[31, 7.204810390248895e-05, 7.214500510599464e-05, '00:04']\n",
      "[32, 6.624127854593098e-05, 9.948129445547238e-05, '00:04']\n",
      "[32, 6.624127854593098e-05, 9.948129445547238e-05, '00:04']\n",
      "[33, 5.2520681492751464e-05, 2.764849523373414e-05, '00:04']\n",
      "[33, 5.2520681492751464e-05, 2.764849523373414e-05, '00:04']\n",
      "[34, 5.220955063123256e-05, 3.051780731766485e-05, '00:04']\n",
      "[34, 5.220955063123256e-05, 3.051780731766485e-05, '00:04']\n",
      "[35, 4.7188266762532294e-05, 5.224678534432314e-05, '00:04']\n",
      "[35, 4.7188266762532294e-05, 5.224678534432314e-05, '00:04']\n",
      "[36, 4.1802635678322986e-05, 4.218244066578336e-05, '00:04']\n",
      "[36, 4.1802635678322986e-05, 4.218244066578336e-05, '00:04']\n",
      "[37, 3.498411024338566e-05, 3.611907595768571e-05, '00:04']\n",
      "[37, 3.498411024338566e-05, 3.611907595768571e-05, '00:04']\n",
      "[38, 3.823680162895471e-05, 2.2073700165492482e-05, '00:04']\n",
      "[38, 3.823680162895471e-05, 2.2073700165492482e-05, '00:04']\n",
      "[39, 3.618945993366651e-05, 5.659633825416677e-05, '00:04']\n",
      "[39, 3.618945993366651e-05, 5.659633825416677e-05, '00:04']\n",
      "[40, 3.474535697023384e-05, 7.38430317142047e-05, '00:04']\n",
      "[40, 3.474535697023384e-05, 7.38430317142047e-05, '00:04']\n",
      "[41, 2.5093495423789136e-05, 1.57412050612038e-05, '00:04']\n",
      "[41, 2.5093495423789136e-05, 1.57412050612038e-05, '00:04']\n",
      "[42, 2.3887831048341468e-05, 9.24423075048253e-05, '00:04']\n",
      "[42, 2.3887831048341468e-05, 9.24423075048253e-05, '00:04']\n",
      "[43, 2.4704992029001005e-05, 6.764868885511532e-05, '00:04']\n",
      "[43, 2.4704992029001005e-05, 6.764868885511532e-05, '00:04']\n",
      "[44, 2.4535032935091294e-05, 2.6508150767767802e-05, '00:04']\n",
      "[44, 2.4535032935091294e-05, 2.6508150767767802e-05, '00:04']\n",
      "[45, 2.3238839276018552e-05, 8.051680197240785e-06, '00:04']\n",
      "[45, 2.3238839276018552e-05, 8.051680197240785e-06, '00:04']\n",
      "[46, 1.843724021455273e-05, 1.1547543181222863e-05, '00:04']\n",
      "[46, 1.843724021455273e-05, 1.1547543181222863e-05, '00:04']\n",
      "[47, 1.7956243027583696e-05, 1.1345231541781686e-05, '00:04']\n",
      "[47, 1.7956243027583696e-05, 1.1345231541781686e-05, '00:04']\n",
      "[48, 1.581000651640352e-05, 8.078800419752952e-06, '00:04']\n",
      "[48, 1.581000651640352e-05, 8.078800419752952e-06, '00:04']\n",
      "[49, 1.2459609024517704e-05, 9.03462296264479e-06, '00:04']\n",
      "[49, 1.2459609024517704e-05, 9.03462296264479e-06, '00:04']\n",
      "[50, 1.3822686923958827e-05, 1.5553519915556535e-05, '00:04']\n",
      "[50, 1.3822686923958827e-05, 1.5553519915556535e-05, '00:04']\n",
      "[51, 1.6890049664652906e-05, 1.1746254131139722e-05, '00:04']\n",
      "[51, 1.6890049664652906e-05, 1.1746254131139722e-05, '00:04']\n",
      "[52, 1.2510976375779137e-05, 1.24951056932332e-05, '00:04']\n",
      "[52, 1.2510976375779137e-05, 1.24951056932332e-05, '00:04']\n",
      "[53, 8.295249244838487e-06, 3.311976615805179e-05, '00:04']\n",
      "[53, 8.295249244838487e-06, 3.311976615805179e-05, '00:04']\n",
      "[54, 9.428183147974778e-06, 1.2435722965165041e-05, '00:04']\n",
      "[54, 9.428183147974778e-06, 1.2435722965165041e-05, '00:04']\n",
      "[55, 6.906805992912268e-06, 1.447598151571583e-05, '00:04']\n",
      "[55, 6.906805992912268e-06, 1.447598151571583e-05, '00:04']\n",
      "[56, 7.447864390996983e-06, 6.9245324993971735e-06, '00:04']\n",
      "[56, 7.447864390996983e-06, 6.9245324993971735e-06, '00:04']\n",
      "[57, 5.3961193771101534e-06, 4.851779067394091e-06, '00:04']\n",
      "[57, 5.3961193771101534e-06, 4.851779067394091e-06, '00:04']\n",
      "[58, 6.328343260975089e-06, 4.142286798014538e-06, '00:04']\n",
      "[58, 6.328343260975089e-06, 4.142286798014538e-06, '00:04']\n",
      "[59, 4.8493611757294275e-06, 4.502738192968536e-06, '00:04']\n",
      "[59, 4.8493611757294275e-06, 4.502738192968536e-06, '00:04']\n",
      "[60, 3.954767635150347e-06, 5.959808731859084e-06, '00:04']\n",
      "[60, 3.954767635150347e-06, 5.959808731859084e-06, '00:04']\n",
      "[61, 3.506524535623612e-06, 4.0524910218664445e-06, '00:04']\n",
      "[61, 3.506524535623612e-06, 4.0524910218664445e-06, '00:04']\n",
      "[62, 2.5908650513883913e-06, 4.7003491090436e-06, '00:04']\n",
      "[62, 2.5908650513883913e-06, 4.7003491090436e-06, '00:04']\n",
      "[63, 2.761910081972019e-06, 2.0434251837286865e-06, '00:05']\n",
      "[63, 2.761910081972019e-06, 2.0434251837286865e-06, '00:05']\n",
      "[64, 3.6162805372441653e-06, 2.2151323264552047e-06, '00:04']\n",
      "[64, 3.6162805372441653e-06, 2.2151323264552047e-06, '00:04']\n",
      "[65, 2.841791456376086e-06, 2.920594397437526e-06, '00:04']\n",
      "[65, 2.841791456376086e-06, 2.920594397437526e-06, '00:04']\n",
      "[66, 2.593500084913103e-06, 3.6683438793261303e-06, '00:05']\n",
      "[66, 2.593500084913103e-06, 3.6683438793261303e-06, '00:05']\n",
      "[67, 2.0360105281724827e-06, 2.9268946946103824e-06, '00:05']\n",
      "[67, 2.0360105281724827e-06, 2.9268946946103824e-06, '00:05']\n",
      "[68, 2.009648142120568e-06, 3.831672529486241e-06, '00:04']\n",
      "[68, 2.009648142120568e-06, 3.831672529486241e-06, '00:04']\n",
      "[69, 1.7235818177141482e-06, 2.477449015714228e-06, '00:05']\n",
      "[69, 1.7235818177141482e-06, 2.477449015714228e-06, '00:05']\n",
      "[70, 1.2688819879258517e-06, 2.3811803657736164e-06, '00:05']\n",
      "[70, 1.2688819879258517e-06, 2.3811803657736164e-06, '00:05']\n",
      "[71, 1.5243136886056163e-06, 1.7968282008951064e-06, '00:04']\n",
      "[71, 1.5243136886056163e-06, 1.7968282008951064e-06, '00:04']\n",
      "[72, 1.3024092595514958e-06, 1.4952101992093958e-06, '00:04']\n",
      "[72, 1.3024092595514958e-06, 1.4952101992093958e-06, '00:04']\n",
      "[73, 1.159622684099304e-06, 1.0660936595741077e-06, '00:06']\n",
      "[73, 1.159622684099304e-06, 1.0660936595741077e-06, '00:06']\n",
      "[74, 9.351289804726548e-07, 1.3152560995877138e-06, '00:07']\n",
      "[74, 9.351289804726548e-07, 1.3152560995877138e-06, '00:07']\n",
      "[75, 1.2123038004574482e-06, 8.87073042576958e-07, '00:04']\n",
      "[75, 1.2123038004574482e-06, 8.87073042576958e-07, '00:04']\n",
      "[76, 9.825142797126318e-07, 1.2092119732187712e-06, '00:04']\n",
      "[76, 9.825142797126318e-07, 1.2092119732187712e-06, '00:04']\n",
      "[77, 8.210188298107823e-07, 1.130122427639435e-06, '00:04']\n",
      "[77, 8.210188298107823e-07, 1.130122427639435e-06, '00:04']\n",
      "[78, 8.494922099089308e-07, 1.056716314451478e-06, '00:04']\n",
      "[78, 8.494922099089308e-07, 1.056716314451478e-06, '00:04']\n",
      "[79, 7.248421525218873e-07, 1.0919374062723364e-06, '00:04']\n",
      "[79, 7.248421525218873e-07, 1.0919374062723364e-06, '00:04']\n",
      "[80, 6.479911576207087e-07, 6.151782940833073e-07, '00:04']\n",
      "[80, 6.479911576207087e-07, 6.151782940833073e-07, '00:04']\n",
      "[81, 6.337928653010749e-07, 9.269970746572653e-07, '00:04']\n",
      "[81, 6.337928653010749e-07, 9.269970746572653e-07, '00:04']\n",
      "[82, 6.785583082091762e-07, 9.258654927180032e-07, '00:04']\n",
      "[82, 6.785583082091762e-07, 9.258654927180032e-07, '00:04']\n",
      "[83, 6.463254749178304e-07, 8.280333645416249e-07, '00:05']\n",
      "[83, 6.463254749178304e-07, 8.280333645416249e-07, '00:05']\n",
      "[84, 5.996041636535665e-07, 5.854955134054762e-07, '00:04']\n",
      "[84, 5.996041636535665e-07, 5.854955134054762e-07, '00:04']\n",
      "[85, 5.795318429591134e-07, 5.737503556701995e-07, '00:04']\n",
      "[85, 5.795318429591134e-07, 5.737503556701995e-07, '00:04']\n",
      "[86, 5.57928217403969e-07, 5.570111625274876e-07, '00:04']\n",
      "[86, 5.57928217403969e-07, 5.570111625274876e-07, '00:04']\n",
      "[87, 5.375184173317393e-07, 6.224714752534055e-07, '00:04']\n",
      "[87, 5.375184173317393e-07, 6.224714752534055e-07, '00:04']\n",
      "[88, 5.018977731197083e-07, 5.644756129186135e-07, '00:04']\n",
      "[88, 5.018977731197083e-07, 5.644756129186135e-07, '00:04']\n",
      "[89, 5.121291337673028e-07, 5.759901000601531e-07, '00:04']\n",
      "[89, 5.121291337673028e-07, 5.759901000601531e-07, '00:04']\n",
      "[90, 4.928647854285373e-07, 5.648508363265137e-07, '00:05']\n",
      "[90, 4.928647854285373e-07, 5.648508363265137e-07, '00:05']\n",
      "[91, 4.689641741606465e-07, 5.408546712715179e-07, '00:05']\n",
      "[91, 4.689641741606465e-07, 5.408546712715179e-07, '00:05']\n",
      "[92, 4.7619582232982793e-07, 5.164948788660695e-07, '00:04']\n",
      "[92, 4.7619582232982793e-07, 5.164948788660695e-07, '00:04']\n",
      "[93, 4.7089159238566936e-07, 5.178704327590822e-07, '00:04']\n",
      "[93, 4.7089159238566936e-07, 5.178704327590822e-07, '00:04']\n",
      "[94, 4.6543971166101983e-07, 5.294832021718321e-07, '00:04']\n",
      "[94, 4.6543971166101983e-07, 5.294832021718321e-07, '00:04']\n",
      "[95, 4.46069492454626e-07, 5.103449893795187e-07, '00:04']\n",
      "[95, 4.46069492454626e-07, 5.103449893795187e-07, '00:04']\n",
      "[96, 4.502681179019419e-07, 5.086259307063301e-07, '00:04']\n",
      "[96, 4.502681179019419e-07, 5.086259307063301e-07, '00:04']\n",
      "[97, 4.330983642830688e-07, 5.080026426185213e-07, '00:04']\n",
      "[97, 4.330983642830688e-07, 5.080026426185213e-07, '00:04']\n",
      "[98, 4.389526679915434e-07, 5.05493687796843e-07, '00:04']\n",
      "[98, 4.389526679915434e-07, 5.05493687796843e-07, '00:04']\n",
      "[99, 4.4639332941187604e-07, 5.04673266732425e-07, '00:04']\n",
      "[99, 4.4639332941187604e-07, 5.04673266732425e-07, '00:04']\n",
      "Training took 475.4822478669994 seconds\n"
     ]
    }
   ],
   "source": [
    "import time\n",
    "\n",
    "start = time.perf_counter() # Starts timer\n",
    "learn.fit_one_cycle(n_epoch=100, lr_max=lr_min * 0.1)\n",
    "end = time.perf_counter() # Ends timer\n",
    "delta_t = end - start\n",
    "print('Training took', delta_t, 'seconds')\n",
    "\n",
    "## Uncomment to save a model for later validation\n",
    "# learn.save('AE_3D')"
   ]
  },
  {
   "cell_type": "markdown",
   "metadata": {},
   "source": [
    "Then we plot the loss as a function of batches and epochs to check if we reach a plateau."
   ]
  },
  {
   "cell_type": "code",
   "execution_count": 20,
   "metadata": {},
   "outputs": [
    {
     "data": {
      "image/png": "[encoded data removed]",
      "text/plain": [
       "<Figure size 432x288 with 1 Axes>"
      ]
     },
     "metadata": {
      "needs_background": "light"
     },
     "output_type": "display_data"
    }
   ],
   "source": [
    "recorder.plot_loss()"
   ]
  },
  {
   "cell_type": "markdown",
   "metadata": {},
   "source": [
    "Then we evaluate the MSE on this network: it should be of the order of 0.001 or less if all has gone well. If it has not trained well, then it's going to be a bit higher."
   ]
  },
  {
   "cell_type": "code",
   "execution_count": 21,
   "metadata": {},
   "outputs": [
    {
     "data": {
      "text/plain": [
       "(#1) [5.04673266732425e-07]"
      ]
     },
     "execution_count": 21,
     "metadata": {},
     "output_type": "execute_result"
    }
   ],
   "source": [
    "learn.validate()"
   ]
  },
  {
   "cell_type": "markdown",
   "metadata": {},
   "source": [
    "Let's plot all of this, with ratios (thanks to code by Erik Wallin)"
   ]
  },
  {
   "cell_type": "markdown",
   "metadata": {},
   "source": [
    "## Plotting the outputs of the network"
   ]
  },
  {
   "cell_type": "code",
   "execution_count": 22,
   "metadata": {},
   "outputs": [],
   "source": [
    "import os\n",
    "save_dir = \"plotOutput\"\n",
    "if not os.path.exists(save_dir):\n",
    "    os.makedirs(save_dir)"
   ]
  },
  {
   "cell_type": "markdown",
   "metadata": {},
   "source": [
    "A function in case we want to un-normalize and get back to physical quantities"
   ]
  },
  {
   "cell_type": "code",
   "execution_count": 23,
   "metadata": {},
   "outputs": [],
   "source": [
    "def custom_unnormalize(df):\n",
    "    df['eta'] = df['eta'] * 5\n",
    "    df['phi'] = df['phi'] * 3\n",
    "    df['E'] = 10**(df['E'] * 20) - 1e-8 \n",
    "    df['pt'] = 10**(df['phi'] * 20) - 1e-8\n",
    "    return df"
   ]
  },
  {
   "cell_type": "markdown",
   "metadata": {},
   "source": [
    "Make the histograms from the test dataset"
   ]
  },
  {
   "cell_type": "code",
   "execution_count": 25,
   "metadata": {},
   "outputs": [
    {
     "data": {
      "image/png": "[encoded data removed]",
      "text/plain": [
       "<Figure size 432x288 with 1 Axes>"
      ]
     },
     "metadata": {
      "needs_background": "light"
     },
     "output_type": "display_data"
    },
    {
     "data": {
      "image/png": "[encoded data removed]",
      "text/plain": [
       "<Figure size 432x288 with 1 Axes>"
      ]
     },
     "metadata": {
      "needs_background": "light"
     },
     "output_type": "display_data"
    },
    {
     "data": {
      "image/png": "[encoded data removed]",
      "text/plain": [
       "<Figure size 432x288 with 1 Axes>"
      ]
     },
     "metadata": {
      "needs_background": "light"
     },
     "output_type": "display_data"
    },
    {
     "data": {
      "image/png": "[encoded data removed]",
      "text/plain": [
       "<Figure size 432x288 with 1 Axes>"
      ]
     },
     "metadata": {
      "needs_background": "light"
     },
     "output_type": "display_data"
    }
   ],
   "source": [
    "import numpy as np\n",
    "import matplotlib.pyplot as plt\n",
    "\n",
    "plt.close('all')\n",
    "unit_list = ['[log(GeV)]', '[log(GeV)]', '[rad/3]', '[rad/3]']\n",
    "variable_list = [r'$E$', r'$p_t$', r'$\\eta$', r'$\\phi$']\n",
    "line_style = ['--', '-']\n",
    "colors = ['purple', 'c']\n",
    "markers = ['*', 's']\n",
    "\n",
    "model.to('cpu')\n",
    "\n",
    "save = True # Option to save figure\n",
    "\n",
    "# Histograms\n",
    "# idxs = (0, 4000)  # Choose events to compare\n",
    "data = torch.tensor(test_set.values, dtype=torch.float)\n",
    "pred = model(data)\n",
    "pred = pred.detach().numpy()\n",
    "data = data.detach().numpy()\n",
    "\n",
    "data_df = pd.DataFrame(data, columns=test_set.columns)\n",
    "pred_df = pd.DataFrame(pred, columns=test_set.columns)\n",
    "\n",
    "## Uncomment and replace the values in the plt.hist() with data_def.values and pred_def.values to plot original values\n",
    "# data_df = custom_unnormalize(data_df)\n",
    "# pred_df = custom_unnormalize(pred_df)    \n",
    "    \n",
    "alph = 0.8\n",
    "n_bins = 200\n",
    "for kk in np.arange(4):\n",
    "    plt.figure()\n",
    "    n_hist_data, bin_edges, _ = plt.hist(data[:, kk], color=colors[1], label='Input', alpha=1, bins=n_bins)\n",
    "    n_hist_pred, _, _ = plt.hist(pred[:, kk], color=colors[0], label='Output', alpha=alph, bins=bin_edges)\n",
    "    plt.suptitle(test_set.columns[kk])\n",
    "    plt.xlabel(xlabel=variable_list[kk] + ' ' + unit_list[kk])\n",
    "    plt.ylabel('Number of events')\n",
    "    # ms.sciy()\n",
    "    plt.yscale('log')\n",
    "    plt.legend()\n",
    "    if save:\n",
    "        plt.savefig(os.path.join(save_dir,test_set.columns[kk]+'.png'))"
   ]
  },
  {
   "cell_type": "code",
   "execution_count": 26,
   "metadata": {},
   "outputs": [
    {
     "name": "stdout",
     "output_type": "stream",
     "text": [
      "[-0.06666666666666667, -0.07407407407407407, 0.14285714285714285, 0.0, 0.0, 0.0, 0.047619047619047616, 0.0, -0.05263157894736842, 0.0, 0.05263157894736842, -0.10526315789473684, 0.03225806451612903, 0.1111111111111111, -0.043478260869565216, 0.0, -0.1875, 0.06666666666666667, 0.0, 0.0967741935483871, 0.0, -0.11764705882352941, 0.0, 0.07692307692307693, 0.0, -0.13043478260869565, -0.047619047619047616, 0.0625, 0.08333333333333333, -0.1, 0.07407407407407407, -0.045454545454545456, 0.0, 0.0, -0.043478260869565216, 0.045454545454545456, 0.0, 0.047619047619047616, -0.06896551724137931, 0.09090909090909091, 0.041666666666666664, -0.07407407407407407, 0.06666666666666667, 0.0, -0.05555555555555555, 0.047619047619047616, 0.0, 0.0, 0.0, 0.05263157894736842, 0.0, -0.02702702702702703, 0.04, -0.043478260869565216, 0.0, 0.0, 0.0, 0.0, 0.0, 0.047619047619047616, 0.0, -0.05555555555555555, -0.05263157894736842, 0.045454545454545456, 0.043478260869565216, 0.0, -0.0625, 0.0, 0.0, -0.034482758620689655, 0.058823529411764705, 0.0, -0.05263157894736842, 0.047619047619047616, 0.047619047619047616, 0.0, -0.0625, 0.05, -0.037037037037037035, 0.043478260869565216, 0.0, -0.037037037037037035, 0.047619047619047616, 0.0, -0.04, 0.03571428571428571, 0.0, 0.0, 0.0, 0.0, 0.0, 0.08333333333333333, -0.08, 0.0, -0.05263157894736842, 0.07142857142857142, 0.0, -0.041666666666666664, 0.038461538461538464, 0.0, 0.041666666666666664, -0.02631578947368421, 0.03225806451612903, -0.03225806451612903, 0.0, 0.0, 0.038461538461538464, -0.03333333333333333, -0.03125, 0.05555555555555555, 0.0, -0.058823529411764705, 0.05263157894736842, 0.037037037037037035, -0.030303030303030304, 0.05, -0.06666666666666667, 0.0, 0.037037037037037035, -0.041666666666666664, 0.0, 0.0, 0.0, 0.0, 0.043478260869565216, -0.045454545454545456, 0.0, 0.0, 0.0, 0.0, 0.0, 0.0, 0.05263157894736842, -0.10526315789473684, 0.05, 0.05263157894736842, -0.10714285714285714, 0.05555555555555555, 0.043478260869565216, -0.0625, 0.047619047619047616, 0.0, 0.0, -0.043478260869565216, 0.05555555555555555, 0.0, 0.0, -0.038461538461538464, 0.04, 0.05555555555555555, -0.06666666666666667, 0.0, 0.0, 0.0, 0.0, -0.05263157894736842, 0.0, 0.10714285714285714, -0.06451612903225806, 0.0, 0.0, 0.0, -0.037037037037037035, 0.0, 0.0, 0.0, 0.03571428571428571, 0.0, 0.043478260869565216, -0.04, 0.0, -0.05, 0.06666666666666667, 0.08695652173913043, 0.0, -0.06451612903225806, 0.0, 0.037037037037037035, -0.04, 0.1, -0.09523809523809523, 0.0, -0.0625, 0.041666666666666664, 0.0625, -0.09375, 0.0, 0.1111111111111111, 0.058823529411764705, 0.0, -0.09523809523809523, 0.0, 0.045454545454545456, 0.047619047619047616, -0.058823529411764705, 0.047619047619047616, 0.1111111111111111, -0.03571428571428571, -0.041666666666666664, -0.18181818181818182]\n"
     ]
    }
   ],
   "source": [
    "def getRatio(bin1,bin2):\n",
    "    bins = []\n",
    "    for b1,b2 in zip(bin1,bin2):\n",
    "        if b1==0 and b2==0:\n",
    "            bins.append(0.)\n",
    "        elif b2==0:\n",
    "            bins.append(None)\n",
    "        else:\n",
    "            bins.append((float(b2)-float(b1))/b1)\n",
    "    return bins   \n",
    "\n",
    "rat = getRatio(n_hist_data,n_hist_pred)\n",
    "print(rat)"
   ]
  },
  {
   "cell_type": "code",
   "execution_count": null,
   "metadata": {},
   "outputs": [],
   "source": []
  }
 ],
 "metadata": {
  "kernelspec": {
   "display_name": "Python 3",
   "language": "python",
   "name": "python3"
  },
  "language_info": {
   "codemirror_mode": {
    "name": "ipython",
    "version": 3
   },
   "file_extension": ".py",
   "mimetype": "text/x-python",
   "name": "python",
   "nbconvert_exporter": "python",
   "pygments_lexer": "ipython3",
   "version": "3.7.6"
  }
 },
 "nbformat": 4,
 "nbformat_minor": 4
}
